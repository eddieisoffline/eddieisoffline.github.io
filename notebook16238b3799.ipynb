{
 "cells": [
  {
   "cell_type": "code",
   "execution_count": 1,
   "id": "fd189716",
   "metadata": {
    "_cell_guid": "b1076dfc-b9ad-4769-8c92-a6c4dae69d19",
    "_uuid": "8f2839f25d086af736a60e9eeb907d3b93b6e0e5",
    "execution": {
     "iopub.execute_input": "2024-04-20T22:40:12.127212Z",
     "iopub.status.busy": "2024-04-20T22:40:12.126788Z",
     "iopub.status.idle": "2024-04-20T22:40:14.055267Z",
     "shell.execute_reply": "2024-04-20T22:40:14.054212Z"
    },
    "papermill": {
     "duration": 1.938491,
     "end_time": "2024-04-20T22:40:14.057608",
     "exception": false,
     "start_time": "2024-04-20T22:40:12.119117",
     "status": "completed"
    },
    "tags": []
   },
   "outputs": [
    {
     "name": "stdout",
     "output_type": "stream",
     "text": [
      "/kaggle/input/diabetes-dataset/diabetes.csv\n"
     ]
    }
   ],
   "source": [
    "# This Python 3 environment comes with many helpful analytics libraries installed\n",
    "# It is defined by the kaggle/python Docker image: https://github.com/kaggle/docker-python\n",
    "# For example, here's several helpful packages to load\n",
    "\n",
    "import numpy as np # linear algebra\n",
    "import pandas as pd # data processing, CSV file I/O (e.g. pd.read_csv)\n",
    "import matplotlib.pyplot as plt\n",
    "import seaborn as sns\n",
    "from scipy import stats\n",
    "# Input data files are available in the read-only \"../input/\" directory\n",
    "# For example, running this (by clicking run or pressing Shift+Enter) will list all files under the input directory\n",
    "\n",
    "import os\n",
    "for dirname, _, filenames in os.walk('/kaggle/input'):\n",
    "    for filename in filenames:\n",
    "        print(os.path.join(dirname, filename))\n",
    "\n",
    "# You can write up to 20GB to the current directory (/kaggle/working/) that gets preserved as output when you create a version using \"Save & Run All\" \n",
    "# You can also write temporary files to /kaggle/temp/, but they won't be saved outside of the current session"
   ]
  },
  {
   "cell_type": "code",
   "execution_count": 2,
   "id": "4e22e4f9",
   "metadata": {
    "execution": {
     "iopub.execute_input": "2024-04-20T22:40:14.072593Z",
     "iopub.status.busy": "2024-04-20T22:40:14.071830Z",
     "iopub.status.idle": "2024-04-20T22:40:14.091105Z",
     "shell.execute_reply": "2024-04-20T22:40:14.090035Z"
    },
    "papermill": {
     "duration": 0.028488,
     "end_time": "2024-04-20T22:40:14.093632",
     "exception": false,
     "start_time": "2024-04-20T22:40:14.065144",
     "status": "completed"
    },
    "tags": []
   },
   "outputs": [],
   "source": [
    "diabetes = pd.read_csv('/kaggle/input/diabetes-dataset/diabetes.csv')"
   ]
  },
  {
   "cell_type": "code",
   "execution_count": 3,
   "id": "1a1d48d1",
   "metadata": {
    "execution": {
     "iopub.execute_input": "2024-04-20T22:40:14.107018Z",
     "iopub.status.busy": "2024-04-20T22:40:14.106117Z",
     "iopub.status.idle": "2024-04-20T22:40:14.128394Z",
     "shell.execute_reply": "2024-04-20T22:40:14.127334Z"
    },
    "papermill": {
     "duration": 0.031091,
     "end_time": "2024-04-20T22:40:14.130493",
     "exception": false,
     "start_time": "2024-04-20T22:40:14.099402",
     "status": "completed"
    },
    "tags": []
   },
   "outputs": [
    {
     "data": {
      "text/html": [
       "<div>\n",
       "<style scoped>\n",
       "    .dataframe tbody tr th:only-of-type {\n",
       "        vertical-align: middle;\n",
       "    }\n",
       "\n",
       "    .dataframe tbody tr th {\n",
       "        vertical-align: top;\n",
       "    }\n",
       "\n",
       "    .dataframe thead th {\n",
       "        text-align: right;\n",
       "    }\n",
       "</style>\n",
       "<table border=\"1\" class=\"dataframe\">\n",
       "  <thead>\n",
       "    <tr style=\"text-align: right;\">\n",
       "      <th></th>\n",
       "      <th>Pregnancies</th>\n",
       "      <th>Glucose</th>\n",
       "      <th>BloodPressure</th>\n",
       "      <th>SkinThickness</th>\n",
       "      <th>Insulin</th>\n",
       "      <th>BMI</th>\n",
       "      <th>DiabetesPedigreeFunction</th>\n",
       "      <th>Age</th>\n",
       "      <th>Outcome</th>\n",
       "    </tr>\n",
       "  </thead>\n",
       "  <tbody>\n",
       "    <tr>\n",
       "      <th>0</th>\n",
       "      <td>6</td>\n",
       "      <td>148</td>\n",
       "      <td>72</td>\n",
       "      <td>35</td>\n",
       "      <td>0</td>\n",
       "      <td>33.6</td>\n",
       "      <td>0.627</td>\n",
       "      <td>50</td>\n",
       "      <td>1</td>\n",
       "    </tr>\n",
       "    <tr>\n",
       "      <th>1</th>\n",
       "      <td>1</td>\n",
       "      <td>85</td>\n",
       "      <td>66</td>\n",
       "      <td>29</td>\n",
       "      <td>0</td>\n",
       "      <td>26.6</td>\n",
       "      <td>0.351</td>\n",
       "      <td>31</td>\n",
       "      <td>0</td>\n",
       "    </tr>\n",
       "    <tr>\n",
       "      <th>2</th>\n",
       "      <td>8</td>\n",
       "      <td>183</td>\n",
       "      <td>64</td>\n",
       "      <td>0</td>\n",
       "      <td>0</td>\n",
       "      <td>23.3</td>\n",
       "      <td>0.672</td>\n",
       "      <td>32</td>\n",
       "      <td>1</td>\n",
       "    </tr>\n",
       "    <tr>\n",
       "      <th>3</th>\n",
       "      <td>1</td>\n",
       "      <td>89</td>\n",
       "      <td>66</td>\n",
       "      <td>23</td>\n",
       "      <td>94</td>\n",
       "      <td>28.1</td>\n",
       "      <td>0.167</td>\n",
       "      <td>21</td>\n",
       "      <td>0</td>\n",
       "    </tr>\n",
       "    <tr>\n",
       "      <th>4</th>\n",
       "      <td>0</td>\n",
       "      <td>137</td>\n",
       "      <td>40</td>\n",
       "      <td>35</td>\n",
       "      <td>168</td>\n",
       "      <td>43.1</td>\n",
       "      <td>2.288</td>\n",
       "      <td>33</td>\n",
       "      <td>1</td>\n",
       "    </tr>\n",
       "  </tbody>\n",
       "</table>\n",
       "</div>"
      ],
      "text/plain": [
       "   Pregnancies  Glucose  BloodPressure  SkinThickness  Insulin   BMI  \\\n",
       "0            6      148             72             35        0  33.6   \n",
       "1            1       85             66             29        0  26.6   \n",
       "2            8      183             64              0        0  23.3   \n",
       "3            1       89             66             23       94  28.1   \n",
       "4            0      137             40             35      168  43.1   \n",
       "\n",
       "   DiabetesPedigreeFunction  Age  Outcome  \n",
       "0                     0.627   50        1  \n",
       "1                     0.351   31        0  \n",
       "2                     0.672   32        1  \n",
       "3                     0.167   21        0  \n",
       "4                     2.288   33        1  "
      ]
     },
     "execution_count": 3,
     "metadata": {},
     "output_type": "execute_result"
    }
   ],
   "source": [
    "diabetes.head()"
   ]
  },
  {
   "cell_type": "code",
   "execution_count": 4,
   "id": "a86c3f58",
   "metadata": {
    "execution": {
     "iopub.execute_input": "2024-04-20T22:40:14.143398Z",
     "iopub.status.busy": "2024-04-20T22:40:14.143080Z",
     "iopub.status.idle": "2024-04-20T22:40:14.149522Z",
     "shell.execute_reply": "2024-04-20T22:40:14.148518Z"
    },
    "papermill": {
     "duration": 0.015411,
     "end_time": "2024-04-20T22:40:14.151711",
     "exception": false,
     "start_time": "2024-04-20T22:40:14.136300",
     "status": "completed"
    },
    "tags": []
   },
   "outputs": [
    {
     "data": {
      "text/plain": [
       "Index(['Pregnancies', 'Glucose', 'BloodPressure', 'SkinThickness', 'Insulin',\n",
       "       'BMI', 'DiabetesPedigreeFunction', 'Age', 'Outcome'],\n",
       "      dtype='object')"
      ]
     },
     "execution_count": 4,
     "metadata": {},
     "output_type": "execute_result"
    }
   ],
   "source": [
    "diabetes.columns"
   ]
  },
  {
   "cell_type": "code",
   "execution_count": 5,
   "id": "72b703b6",
   "metadata": {
    "execution": {
     "iopub.execute_input": "2024-04-20T22:40:14.165305Z",
     "iopub.status.busy": "2024-04-20T22:40:14.164476Z",
     "iopub.status.idle": "2024-04-20T22:40:14.595826Z",
     "shell.execute_reply": "2024-04-20T22:40:14.594756Z"
    },
    "papermill": {
     "duration": 0.441097,
     "end_time": "2024-04-20T22:40:14.598697",
     "exception": false,
     "start_time": "2024-04-20T22:40:14.157600",
     "status": "completed"
    },
    "tags": []
   },
   "outputs": [
    {
     "data": {
      "image/png": "[encoded data removed]",
      "text/plain": [
       "<Figure size 640x480 with 1 Axes>"
      ]
     },
     "metadata": {},
     "output_type": "display_data"
    }
   ],
   "source": [
    "sns.regplot(x='Glucose',y='DiabetesPedigreeFunction', data = diabetes)\n",
    "plt.ylim(0,)\n",
    "plt.show()\n"
   ]
  },
  {
   "cell_type": "code",
   "execution_count": 6,
   "id": "5bc81f9b",
   "metadata": {
    "execution": {
     "iopub.execute_input": "2024-04-20T22:40:14.614310Z",
     "iopub.status.busy": "2024-04-20T22:40:14.613623Z",
     "iopub.status.idle": "2024-04-20T22:40:14.620578Z",
     "shell.execute_reply": "2024-04-20T22:40:14.619600Z"
    },
    "papermill": {
     "duration": 0.016848,
     "end_time": "2024-04-20T22:40:14.622485",
     "exception": false,
     "start_time": "2024-04-20T22:40:14.605637",
     "status": "completed"
    },
    "tags": []
   },
   "outputs": [],
   "source": [
    "pearson_cof,p_value = stats.pearsonr(diabetes['Glucose'],diabetes['DiabetesPedigreeFunction'])"
   ]
  },
  {
   "cell_type": "code",
   "execution_count": 7,
   "id": "b4758247",
   "metadata": {
    "execution": {
     "iopub.execute_input": "2024-04-20T22:40:14.638168Z",
     "iopub.status.busy": "2024-04-20T22:40:14.637301Z",
     "iopub.status.idle": "2024-04-20T22:40:14.642400Z",
     "shell.execute_reply": "2024-04-20T22:40:14.641401Z"
    },
    "papermill": {
     "duration": 0.015504,
     "end_time": "2024-04-20T22:40:14.644928",
     "exception": false,
     "start_time": "2024-04-20T22:40:14.629424",
     "status": "completed"
    },
    "tags": []
   },
   "outputs": [
    {
     "name": "stdout",
     "output_type": "stream",
     "text": [
      "correlation is:  0.1373372998283707\n",
      "p value is : 0.00013458781437157466\n"
     ]
    }
   ],
   "source": [
    "print('correlation is: ', pearson_cof)\n",
    "print('p value is :', p_value)"
   ]
  },
  {
   "cell_type": "code",
   "execution_count": 8,
   "id": "602241a4",
   "metadata": {
    "execution": {
     "iopub.execute_input": "2024-04-20T22:40:14.660901Z",
     "iopub.status.busy": "2024-04-20T22:40:14.660021Z",
     "iopub.status.idle": "2024-04-20T22:40:14.674077Z",
     "shell.execute_reply": "2024-04-20T22:40:14.673110Z"
    },
    "papermill": {
     "duration": 0.024289,
     "end_time": "2024-04-20T22:40:14.676244",
     "exception": false,
     "start_time": "2024-04-20T22:40:14.651955",
     "status": "completed"
    },
    "tags": []
   },
   "outputs": [
    {
     "data": {
      "text/html": [
       "<div>\n",
       "<style scoped>\n",
       "    .dataframe tbody tr th:only-of-type {\n",
       "        vertical-align: middle;\n",
       "    }\n",
       "\n",
       "    .dataframe tbody tr th {\n",
       "        vertical-align: top;\n",
       "    }\n",
       "\n",
       "    .dataframe thead th {\n",
       "        text-align: right;\n",
       "    }\n",
       "</style>\n",
       "<table border=\"1\" class=\"dataframe\">\n",
       "  <thead>\n",
       "    <tr style=\"text-align: right;\">\n",
       "      <th></th>\n",
       "      <th>DiabetesPedigreeFunction</th>\n",
       "      <th>Glucose</th>\n",
       "    </tr>\n",
       "  </thead>\n",
       "  <tbody>\n",
       "    <tr>\n",
       "      <th>0</th>\n",
       "      <td>0.627</td>\n",
       "      <td>148</td>\n",
       "    </tr>\n",
       "    <tr>\n",
       "      <th>1</th>\n",
       "      <td>0.351</td>\n",
       "      <td>85</td>\n",
       "    </tr>\n",
       "    <tr>\n",
       "      <th>2</th>\n",
       "      <td>0.672</td>\n",
       "      <td>183</td>\n",
       "    </tr>\n",
       "    <tr>\n",
       "      <th>3</th>\n",
       "      <td>0.167</td>\n",
       "      <td>89</td>\n",
       "    </tr>\n",
       "    <tr>\n",
       "      <th>4</th>\n",
       "      <td>2.288</td>\n",
       "      <td>137</td>\n",
       "    </tr>\n",
       "  </tbody>\n",
       "</table>\n",
       "</div>"
      ],
      "text/plain": [
       "   DiabetesPedigreeFunction  Glucose\n",
       "0                     0.627      148\n",
       "1                     0.351       85\n",
       "2                     0.672      183\n",
       "3                     0.167       89\n",
       "4                     2.288      137"
      ]
     },
     "execution_count": 8,
     "metadata": {},
     "output_type": "execute_result"
    }
   ],
   "source": [
    "diabetes[['DiabetesPedigreeFunction', 'Glucose']].head()"
   ]
  },
  {
   "cell_type": "code",
   "execution_count": 9,
   "id": "dd564103",
   "metadata": {
    "execution": {
     "iopub.execute_input": "2024-04-20T22:40:14.692419Z",
     "iopub.status.busy": "2024-04-20T22:40:14.691834Z",
     "iopub.status.idle": "2024-04-20T22:40:14.696091Z",
     "shell.execute_reply": "2024-04-20T22:40:14.695136Z"
    },
    "papermill": {
     "duration": 0.014401,
     "end_time": "2024-04-20T22:40:14.698062",
     "exception": false,
     "start_time": "2024-04-20T22:40:14.683661",
     "status": "completed"
    },
    "tags": []
   },
   "outputs": [],
   "source": [
    "w = 0.0031\n",
    "b = 0"
   ]
  },
  {
   "cell_type": "code",
   "execution_count": 10,
   "id": "e6f89248",
   "metadata": {
    "execution": {
     "iopub.execute_input": "2024-04-20T22:40:14.714783Z",
     "iopub.status.busy": "2024-04-20T22:40:14.714134Z",
     "iopub.status.idle": "2024-04-20T22:40:14.719134Z",
     "shell.execute_reply": "2024-04-20T22:40:14.718194Z"
    },
    "papermill": {
     "duration": 0.015183,
     "end_time": "2024-04-20T22:40:14.721284",
     "exception": false,
     "start_time": "2024-04-20T22:40:14.706101",
     "status": "completed"
    },
    "tags": []
   },
   "outputs": [],
   "source": [
    "x= np.linspace(0, diabetes['Glucose'].max(), 100)\n",
    "y =w*x+b"
   ]
  },
  {
   "cell_type": "code",
   "execution_count": 11,
   "id": "7dfd91a4",
   "metadata": {
    "execution": {
     "iopub.execute_input": "2024-04-20T22:40:14.736738Z",
     "iopub.status.busy": "2024-04-20T22:40:14.736154Z",
     "iopub.status.idle": "2024-04-20T22:40:14.985351Z",
     "shell.execute_reply": "2024-04-20T22:40:14.984322Z"
    },
    "papermill": {
     "duration": 0.259246,
     "end_time": "2024-04-20T22:40:14.987506",
     "exception": false,
     "start_time": "2024-04-20T22:40:14.728260",
     "status": "completed"
    },
    "tags": []
   },
   "outputs": [
    {
     "data": {
      "image/png": "[encoded data removed]",
      "text/plain": [
       "<Figure size 640x480 with 1 Axes>"
      ]
     },
     "metadata": {},
     "output_type": "display_data"
    }
   ],
   "source": [
    "diabetes.plot.scatter(x = 'Glucose',y = 'DiabetesPedigreeFunction')\n",
    "plt.plot(x,y,'-g')\n",
    "plt.ylim(0,diabetes['DiabetesPedigreeFunction'].max()*1.1)\n",
    "plt.show()"
   ]
  },
  {
   "cell_type": "code",
   "execution_count": 12,
   "id": "752a3779",
   "metadata": {
    "execution": {
     "iopub.execute_input": "2024-04-20T22:40:15.004899Z",
     "iopub.status.busy": "2024-04-20T22:40:15.004072Z",
     "iopub.status.idle": "2024-04-20T22:40:15.010183Z",
     "shell.execute_reply": "2024-04-20T22:40:15.009063Z"
    },
    "papermill": {
     "duration": 0.017408,
     "end_time": "2024-04-20T22:40:15.012764",
     "exception": false,
     "start_time": "2024-04-20T22:40:14.995356",
     "status": "completed"
    },
    "tags": []
   },
   "outputs": [],
   "source": [
    "diabetes['pred'] = diabetes['Glucose']*w*b"
   ]
  },
  {
   "cell_type": "code",
   "execution_count": 13,
   "id": "a73ca2c9",
   "metadata": {
    "execution": {
     "iopub.execute_input": "2024-04-20T22:40:15.030467Z",
     "iopub.status.busy": "2024-04-20T22:40:15.029602Z",
     "iopub.status.idle": "2024-04-20T22:40:15.045719Z",
     "shell.execute_reply": "2024-04-20T22:40:15.044800Z"
    },
    "papermill": {
     "duration": 0.02726,
     "end_time": "2024-04-20T22:40:15.048043",
     "exception": false,
     "start_time": "2024-04-20T22:40:15.020783",
     "status": "completed"
    },
    "tags": []
   },
   "outputs": [
    {
     "data": {
      "text/html": [
       "<div>\n",
       "<style scoped>\n",
       "    .dataframe tbody tr th:only-of-type {\n",
       "        vertical-align: middle;\n",
       "    }\n",
       "\n",
       "    .dataframe tbody tr th {\n",
       "        vertical-align: top;\n",
       "    }\n",
       "\n",
       "    .dataframe thead th {\n",
       "        text-align: right;\n",
       "    }\n",
       "</style>\n",
       "<table border=\"1\" class=\"dataframe\">\n",
       "  <thead>\n",
       "    <tr style=\"text-align: right;\">\n",
       "      <th></th>\n",
       "      <th>Pregnancies</th>\n",
       "      <th>Glucose</th>\n",
       "      <th>BloodPressure</th>\n",
       "      <th>SkinThickness</th>\n",
       "      <th>Insulin</th>\n",
       "      <th>BMI</th>\n",
       "      <th>DiabetesPedigreeFunction</th>\n",
       "      <th>Age</th>\n",
       "      <th>Outcome</th>\n",
       "      <th>pred</th>\n",
       "      <th>diff</th>\n",
       "      <th>cuad</th>\n",
       "    </tr>\n",
       "  </thead>\n",
       "  <tbody>\n",
       "    <tr>\n",
       "      <th>0</th>\n",
       "      <td>6</td>\n",
       "      <td>148</td>\n",
       "      <td>72</td>\n",
       "      <td>35</td>\n",
       "      <td>0</td>\n",
       "      <td>33.6</td>\n",
       "      <td>0.627</td>\n",
       "      <td>50</td>\n",
       "      <td>1</td>\n",
       "      <td>0.0</td>\n",
       "      <td>-0.627</td>\n",
       "      <td>0.393129</td>\n",
       "    </tr>\n",
       "    <tr>\n",
       "      <th>1</th>\n",
       "      <td>1</td>\n",
       "      <td>85</td>\n",
       "      <td>66</td>\n",
       "      <td>29</td>\n",
       "      <td>0</td>\n",
       "      <td>26.6</td>\n",
       "      <td>0.351</td>\n",
       "      <td>31</td>\n",
       "      <td>0</td>\n",
       "      <td>0.0</td>\n",
       "      <td>-0.351</td>\n",
       "      <td>0.123201</td>\n",
       "    </tr>\n",
       "    <tr>\n",
       "      <th>2</th>\n",
       "      <td>8</td>\n",
       "      <td>183</td>\n",
       "      <td>64</td>\n",
       "      <td>0</td>\n",
       "      <td>0</td>\n",
       "      <td>23.3</td>\n",
       "      <td>0.672</td>\n",
       "      <td>32</td>\n",
       "      <td>1</td>\n",
       "      <td>0.0</td>\n",
       "      <td>-0.672</td>\n",
       "      <td>0.451584</td>\n",
       "    </tr>\n",
       "    <tr>\n",
       "      <th>3</th>\n",
       "      <td>1</td>\n",
       "      <td>89</td>\n",
       "      <td>66</td>\n",
       "      <td>23</td>\n",
       "      <td>94</td>\n",
       "      <td>28.1</td>\n",
       "      <td>0.167</td>\n",
       "      <td>21</td>\n",
       "      <td>0</td>\n",
       "      <td>0.0</td>\n",
       "      <td>-0.167</td>\n",
       "      <td>0.027889</td>\n",
       "    </tr>\n",
       "    <tr>\n",
       "      <th>4</th>\n",
       "      <td>0</td>\n",
       "      <td>137</td>\n",
       "      <td>40</td>\n",
       "      <td>35</td>\n",
       "      <td>168</td>\n",
       "      <td>43.1</td>\n",
       "      <td>2.288</td>\n",
       "      <td>33</td>\n",
       "      <td>1</td>\n",
       "      <td>0.0</td>\n",
       "      <td>-2.288</td>\n",
       "      <td>5.234944</td>\n",
       "    </tr>\n",
       "  </tbody>\n",
       "</table>\n",
       "</div>"
      ],
      "text/plain": [
       "   Pregnancies  Glucose  BloodPressure  SkinThickness  Insulin   BMI  \\\n",
       "0            6      148             72             35        0  33.6   \n",
       "1            1       85             66             29        0  26.6   \n",
       "2            8      183             64              0        0  23.3   \n",
       "3            1       89             66             23       94  28.1   \n",
       "4            0      137             40             35      168  43.1   \n",
       "\n",
       "   DiabetesPedigreeFunction  Age  Outcome  pred   diff      cuad  \n",
       "0                     0.627   50        1   0.0 -0.627  0.393129  \n",
       "1                     0.351   31        0   0.0 -0.351  0.123201  \n",
       "2                     0.672   32        1   0.0 -0.672  0.451584  \n",
       "3                     0.167   21        0   0.0 -0.167  0.027889  \n",
       "4                     2.288   33        1   0.0 -2.288  5.234944  "
      ]
     },
     "execution_count": 13,
     "metadata": {},
     "output_type": "execute_result"
    }
   ],
   "source": [
    "diabetes['diff'] = diabetes['pred']-diabetes['DiabetesPedigreeFunction'] \n",
    "diabetes['cuad'] = diabetes['diff']**2\n",
    "diabetes.head()"
   ]
  },
  {
   "cell_type": "code",
   "execution_count": 14,
   "id": "b41a6811",
   "metadata": {
    "execution": {
     "iopub.execute_input": "2024-04-20T22:40:15.065574Z",
     "iopub.status.busy": "2024-04-20T22:40:15.064772Z",
     "iopub.status.idle": "2024-04-20T22:40:15.071128Z",
     "shell.execute_reply": "2024-04-20T22:40:15.070220Z"
    },
    "papermill": {
     "duration": 0.017295,
     "end_time": "2024-04-20T22:40:15.073290",
     "exception": false,
     "start_time": "2024-04-20T22:40:15.055995",
     "status": "completed"
    },
    "tags": []
   },
   "outputs": [
    {
     "data": {
      "text/plain": [
       "0.33230294140625"
      ]
     },
     "execution_count": 14,
     "metadata": {},
     "output_type": "execute_result"
    }
   ],
   "source": [
    "diabetes['cuad'].mean()"
   ]
  },
  {
   "cell_type": "code",
   "execution_count": 15,
   "id": "9302fb0f",
   "metadata": {
    "execution": {
     "iopub.execute_input": "2024-04-20T22:40:15.091078Z",
     "iopub.status.busy": "2024-04-20T22:40:15.090382Z",
     "iopub.status.idle": "2024-04-20T22:40:15.099722Z",
     "shell.execute_reply": "2024-04-20T22:40:15.098734Z"
    },
    "papermill": {
     "duration": 0.020686,
     "end_time": "2024-04-20T22:40:15.101993",
     "exception": false,
     "start_time": "2024-04-20T22:40:15.081307",
     "status": "completed"
    },
    "tags": []
   },
   "outputs": [
    {
     "data": {
      "text/html": [
       "<div>\n",
       "<style scoped>\n",
       "    .dataframe tbody tr th:only-of-type {\n",
       "        vertical-align: middle;\n",
       "    }\n",
       "\n",
       "    .dataframe tbody tr th {\n",
       "        vertical-align: top;\n",
       "    }\n",
       "\n",
       "    .dataframe thead th {\n",
       "        text-align: right;\n",
       "    }\n",
       "</style>\n",
       "<table border=\"1\" class=\"dataframe\">\n",
       "  <thead>\n",
       "    <tr style=\"text-align: right;\">\n",
       "      <th></th>\n",
       "      <th>w</th>\n",
       "    </tr>\n",
       "  </thead>\n",
       "  <tbody>\n",
       "    <tr>\n",
       "      <th>0</th>\n",
       "      <td>50.000000</td>\n",
       "    </tr>\n",
       "    <tr>\n",
       "      <th>1</th>\n",
       "      <td>53.061224</td>\n",
       "    </tr>\n",
       "    <tr>\n",
       "      <th>2</th>\n",
       "      <td>56.122449</td>\n",
       "    </tr>\n",
       "    <tr>\n",
       "      <th>3</th>\n",
       "      <td>59.183673</td>\n",
       "    </tr>\n",
       "    <tr>\n",
       "      <th>4</th>\n",
       "      <td>62.244898</td>\n",
       "    </tr>\n",
       "  </tbody>\n",
       "</table>\n",
       "</div>"
      ],
      "text/plain": [
       "           w\n",
       "0  50.000000\n",
       "1  53.061224\n",
       "2  56.122449\n",
       "3  59.183673\n",
       "4  62.244898"
      ]
     },
     "execution_count": 15,
     "metadata": {},
     "output_type": "execute_result"
    }
   ],
   "source": [
    "w = np.linspace(50,200,50)\n",
    "grid_error = pd.DataFrame(w, columns = ['w'])\n",
    "grid_error.head()"
   ]
  },
  {
   "cell_type": "code",
   "execution_count": 16,
   "id": "f76e1709",
   "metadata": {
    "execution": {
     "iopub.execute_input": "2024-04-20T22:40:15.119789Z",
     "iopub.status.busy": "2024-04-20T22:40:15.119232Z",
     "iopub.status.idle": "2024-04-20T22:40:15.124488Z",
     "shell.execute_reply": "2024-04-20T22:40:15.123600Z"
    },
    "papermill": {
     "duration": 0.016285,
     "end_time": "2024-04-20T22:40:15.126504",
     "exception": false,
     "start_time": "2024-04-20T22:40:15.110219",
     "status": "completed"
    },
    "tags": []
   },
   "outputs": [],
   "source": [
    "def sum_error(w, diabetes):\n",
    "    b=0\n",
    "    diabetes['pred']= diabetes['Glucose']*w+b\n",
    "    diabetes['diff']= diabetes['pred']-diabetes['DiabetesPedigreeFunction']\n",
    "    diabetes['cuad']= diabetes['diff']**2\n",
    "    return(diabetes['cuad'].mean())"
   ]
  },
  {
   "cell_type": "code",
   "execution_count": 17,
   "id": "f02d02c4",
   "metadata": {
    "execution": {
     "iopub.execute_input": "2024-04-20T22:40:15.144008Z",
     "iopub.status.busy": "2024-04-20T22:40:15.143346Z",
     "iopub.status.idle": "2024-04-20T22:40:15.198201Z",
     "shell.execute_reply": "2024-04-20T22:40:15.197160Z"
    },
    "papermill": {
     "duration": 0.065972,
     "end_time": "2024-04-20T22:40:15.200426",
     "exception": false,
     "start_time": "2024-04-20T22:40:15.134454",
     "status": "completed"
    },
    "tags": []
   },
   "outputs": [
    {
     "data": {
      "text/html": [
       "<div>\n",
       "<style scoped>\n",
       "    .dataframe tbody tr th:only-of-type {\n",
       "        vertical-align: middle;\n",
       "    }\n",
       "\n",
       "    .dataframe tbody tr th {\n",
       "        vertical-align: top;\n",
       "    }\n",
       "\n",
       "    .dataframe thead th {\n",
       "        text-align: right;\n",
       "    }\n",
       "</style>\n",
       "<table border=\"1\" class=\"dataframe\">\n",
       "  <thead>\n",
       "    <tr style=\"text-align: right;\">\n",
       "      <th></th>\n",
       "      <th>w</th>\n",
       "      <th>error</th>\n",
       "    </tr>\n",
       "  </thead>\n",
       "  <tbody>\n",
       "    <tr>\n",
       "      <th>0</th>\n",
       "      <td>50.000000</td>\n",
       "      <td>3.908516e+07</td>\n",
       "    </tr>\n",
       "    <tr>\n",
       "      <th>1</th>\n",
       "      <td>53.061224</td>\n",
       "      <td>4.401799e+07</td>\n",
       "    </tr>\n",
       "    <tr>\n",
       "      <th>2</th>\n",
       "      <td>56.122449</td>\n",
       "      <td>4.924388e+07</td>\n",
       "    </tr>\n",
       "    <tr>\n",
       "      <th>3</th>\n",
       "      <td>59.183673</td>\n",
       "      <td>5.476282e+07</td>\n",
       "    </tr>\n",
       "    <tr>\n",
       "      <th>4</th>\n",
       "      <td>62.244898</td>\n",
       "      <td>6.057483e+07</td>\n",
       "    </tr>\n",
       "  </tbody>\n",
       "</table>\n",
       "</div>"
      ],
      "text/plain": [
       "           w         error\n",
       "0  50.000000  3.908516e+07\n",
       "1  53.061224  4.401799e+07\n",
       "2  56.122449  4.924388e+07\n",
       "3  59.183673  5.476282e+07\n",
       "4  62.244898  6.057483e+07"
      ]
     },
     "execution_count": 17,
     "metadata": {},
     "output_type": "execute_result"
    }
   ],
   "source": [
    "grid_error['error']=grid_error['w'].apply(lambda x: sum_error(x, diabetes=diabetes))\n",
    "grid_error.head()"
   ]
  },
  {
   "cell_type": "code",
   "execution_count": 18,
   "id": "aeba9086",
   "metadata": {
    "execution": {
     "iopub.execute_input": "2024-04-20T22:40:15.219019Z",
     "iopub.status.busy": "2024-04-20T22:40:15.218667Z",
     "iopub.status.idle": "2024-04-20T22:40:15.459993Z",
     "shell.execute_reply": "2024-04-20T22:40:15.458978Z"
    },
    "papermill": {
     "duration": 0.253151,
     "end_time": "2024-04-20T22:40:15.462264",
     "exception": false,
     "start_time": "2024-04-20T22:40:15.209113",
     "status": "completed"
    },
    "tags": []
   },
   "outputs": [
    {
     "data": {
      "image/png": "[encoded data removed]",
      "text/plain": [
       "<Figure size 640x480 with 1 Axes>"
      ]
     },
     "metadata": {},
     "output_type": "display_data"
    }
   ],
   "source": [
    "grid_error.plot(x='w', y='error')\n",
    "plt.show()"
   ]
  },
  {
   "cell_type": "code",
   "execution_count": 19,
   "id": "d604fb29",
   "metadata": {
    "execution": {
     "iopub.execute_input": "2024-04-20T22:40:15.482333Z",
     "iopub.status.busy": "2024-04-20T22:40:15.481427Z",
     "iopub.status.idle": "2024-04-20T22:40:15.797710Z",
     "shell.execute_reply": "2024-04-20T22:40:15.796769Z"
    },
    "papermill": {
     "duration": 0.329091,
     "end_time": "2024-04-20T22:40:15.800248",
     "exception": false,
     "start_time": "2024-04-20T22:40:15.471157",
     "status": "completed"
    },
    "tags": []
   },
   "outputs": [],
   "source": [
    "from sklearn.linear_model import LinearRegression"
   ]
  },
  {
   "cell_type": "code",
   "execution_count": 20,
   "id": "d3a6608b",
   "metadata": {
    "execution": {
     "iopub.execute_input": "2024-04-20T22:40:15.820379Z",
     "iopub.status.busy": "2024-04-20T22:40:15.819471Z",
     "iopub.status.idle": "2024-04-20T22:40:15.825205Z",
     "shell.execute_reply": "2024-04-20T22:40:15.824239Z"
    },
    "papermill": {
     "duration": 0.017803,
     "end_time": "2024-04-20T22:40:15.827214",
     "exception": false,
     "start_time": "2024-04-20T22:40:15.809411",
     "status": "completed"
    },
    "tags": []
   },
   "outputs": [],
   "source": [
    "x = np.array(diabetes['Glucose']).reshape((-1, 1))\n",
    "y= np.array(diabetes['DiabetesPedigreeFunction'])"
   ]
  },
  {
   "cell_type": "code",
   "execution_count": null,
   "id": "dde4881e",
   "metadata": {
    "papermill": {
     "duration": 0.009174,
     "end_time": "2024-04-20T22:40:15.846217",
     "exception": false,
     "start_time": "2024-04-20T22:40:15.837043",
     "status": "completed"
    },
    "tags": []
   },
   "outputs": [],
   "source": []
  },
  {
   "cell_type": "code",
   "execution_count": 21,
   "id": "48600e80",
   "metadata": {
    "execution": {
     "iopub.execute_input": "2024-04-20T22:40:15.865491Z",
     "iopub.status.busy": "2024-04-20T22:40:15.865119Z",
     "iopub.status.idle": "2024-04-20T22:40:15.885169Z",
     "shell.execute_reply": "2024-04-20T22:40:15.884187Z"
    },
    "papermill": {
     "duration": 0.03215,
     "end_time": "2024-04-20T22:40:15.887341",
     "exception": false,
     "start_time": "2024-04-20T22:40:15.855191",
     "status": "completed"
    },
    "tags": []
   },
   "outputs": [
    {
     "data": {
      "text/html": [
       "<style>#sk-container-id-1 {color: black;background-color: white;}#sk-container-id-1 pre{padding: 0;}#sk-container-id-1 div.sk-toggleable {background-color: white;}#sk-container-id-1 label.sk-toggleable__label {cursor: pointer;display: block;width: 100%;margin-bottom: 0;padding: 0.3em;box-sizing: border-box;text-align: center;}#sk-container-id-1 label.sk-toggleable__label-arrow:before {content: \"▸\";float: left;margin-right: 0.25em;color: #696969;}#sk-container-id-1 label.sk-toggleable__label-arrow:hover:before {color: black;}#sk-container-id-1 div.sk-estimator:hover label.sk-toggleable__label-arrow:before {color: black;}#sk-container-id-1 div.sk-toggleable__content {max-height: 0;max-width: 0;overflow: hidden;text-align: left;background-color: #f0f8ff;}#sk-container-id-1 div.sk-toggleable__content pre {margin: 0.2em;color: black;border-radius: 0.25em;background-color: #f0f8ff;}#sk-container-id-1 input.sk-toggleable__control:checked~div.sk-toggleable__content {max-height: 200px;max-width: 100%;overflow: auto;}#sk-container-id-1 input.sk-toggleable__control:checked~label.sk-toggleable__label-arrow:before {content: \"▾\";}#sk-container-id-1 div.sk-estimator input.sk-toggleable__control:checked~label.sk-toggleable__label {background-color: #d4ebff;}#sk-container-id-1 div.sk-label input.sk-toggleable__control:checked~label.sk-toggleable__label {background-color: #d4ebff;}#sk-container-id-1 input.sk-hidden--visually {border: 0;clip: rect(1px 1px 1px 1px);clip: rect(1px, 1px, 1px, 1px);height: 1px;margin: -1px;overflow: hidden;padding: 0;position: absolute;width: 1px;}#sk-container-id-1 div.sk-estimator {font-family: monospace;background-color: #f0f8ff;border: 1px dotted black;border-radius: 0.25em;box-sizing: border-box;margin-bottom: 0.5em;}#sk-container-id-1 div.sk-estimator:hover {background-color: #d4ebff;}#sk-container-id-1 div.sk-parallel-item::after {content: \"\";width: 100%;border-bottom: 1px solid gray;flex-grow: 1;}#sk-container-id-1 div.sk-label:hover label.sk-toggleable__label {background-color: #d4ebff;}#sk-container-id-1 div.sk-serial::before {content: \"\";position: absolute;border-left: 1px solid gray;box-sizing: border-box;top: 0;bottom: 0;left: 50%;z-index: 0;}#sk-container-id-1 div.sk-serial {display: flex;flex-direction: column;align-items: center;background-color: white;padding-right: 0.2em;padding-left: 0.2em;position: relative;}#sk-container-id-1 div.sk-item {position: relative;z-index: 1;}#sk-container-id-1 div.sk-parallel {display: flex;align-items: stretch;justify-content: center;background-color: white;position: relative;}#sk-container-id-1 div.sk-item::before, #sk-container-id-1 div.sk-parallel-item::before {content: \"\";position: absolute;border-left: 1px solid gray;box-sizing: border-box;top: 0;bottom: 0;left: 50%;z-index: -1;}#sk-container-id-1 div.sk-parallel-item {display: flex;flex-direction: column;z-index: 1;position: relative;background-color: white;}#sk-container-id-1 div.sk-parallel-item:first-child::after {align-self: flex-end;width: 50%;}#sk-container-id-1 div.sk-parallel-item:last-child::after {align-self: flex-start;width: 50%;}#sk-container-id-1 div.sk-parallel-item:only-child::after {width: 0;}#sk-container-id-1 div.sk-dashed-wrapped {border: 1px dashed gray;margin: 0 0.4em 0.5em 0.4em;box-sizing: border-box;padding-bottom: 0.4em;background-color: white;}#sk-container-id-1 div.sk-label label {font-family: monospace;font-weight: bold;display: inline-block;line-height: 1.2em;}#sk-container-id-1 div.sk-label-container {text-align: center;}#sk-container-id-1 div.sk-container {/* jupyter's `normalize.less` sets `[hidden] { display: none; }` but bootstrap.min.css set `[hidden] { display: none !important; }` so we also need the `!important` here to be able to override the default hidden behavior on the sphinx rendered scikit-learn.org. See: https://github.com/scikit-learn/scikit-learn/issues/21755 */display: inline-block !important;position: relative;}#sk-container-id-1 div.sk-text-repr-fallback {display: none;}</style><div id=\"sk-container-id-1\" class=\"sk-top-container\"><div class=\"sk-text-repr-fallback\"><pre>LinearRegression(fit_intercept=False)</pre><b>In a Jupyter environment, please rerun this cell to show the HTML representation or trust the notebook. <br />On GitHub, the HTML representation is unable to render, please try loading this page with nbviewer.org.</b></div><div class=\"sk-container\" hidden><div class=\"sk-item\"><div class=\"sk-estimator sk-toggleable\"><input class=\"sk-toggleable__control sk-hidden--visually\" id=\"sk-estimator-id-1\" type=\"checkbox\" checked><label for=\"sk-estimator-id-1\" class=\"sk-toggleable__label sk-toggleable__label-arrow\">LinearRegression</label><div class=\"sk-toggleable__content\"><pre>LinearRegression(fit_intercept=False)</pre></div></div></div></div></div>"
      ],
      "text/plain": [
       "LinearRegression(fit_intercept=False)"
      ]
     },
     "execution_count": 21,
     "metadata": {},
     "output_type": "execute_result"
    }
   ],
   "source": [
    "model= LinearRegression(fit_intercept= False)\n",
    "model.fit(x,y)"
   ]
  },
  {
   "cell_type": "code",
   "execution_count": 22,
   "id": "eed70ba6",
   "metadata": {
    "execution": {
     "iopub.execute_input": "2024-04-20T22:40:15.907217Z",
     "iopub.status.busy": "2024-04-20T22:40:15.906846Z",
     "iopub.status.idle": "2024-04-20T22:40:15.912237Z",
     "shell.execute_reply": "2024-04-20T22:40:15.911262Z"
    },
    "papermill": {
     "duration": 0.017912,
     "end_time": "2024-04-20T22:40:15.914533",
     "exception": false,
     "start_time": "2024-04-20T22:40:15.896621",
     "status": "completed"
    },
    "tags": []
   },
   "outputs": [
    {
     "name": "stdout",
     "output_type": "stream",
     "text": [
      "intercepto(b): 0.0\n",
      "pendiente (w): [0.00374128]\n"
     ]
    }
   ],
   "source": [
    "print(f'intercepto(b): {model.intercept_}')\n",
    "print(f'pendiente (w): {model.coef_}')"
   ]
  }
 ],
 "metadata": {
  "kaggle": {
   "accelerator": "none",
   "dataSources": [
    {
     "datasetId": 2527538,
     "sourceId": 4289678,
     "sourceType": "datasetVersion"
    }
   ],
   "dockerImageVersionId": 30702,
   "isGpuEnabled": false,
   "isInternetEnabled": true,
   "language": "python",
   "sourceType": "notebook"
  },
  "kernelspec": {
   "display_name": "Python 3",
   "language": "python",
   "name": "python3"
  },
  "language_info": {
   "codemirror_mode": {
    "name": "ipython",
    "version": 3
   },
   "file_extension": ".py",
   "mimetype": "text/x-python",
   "name": "python",
   "nbconvert_exporter": "python",
   "pygments_lexer": "ipython3",
   "version": "3.10.13"
  },
  "papermill": {
   "default_parameters": {},
   "duration": 7.173397,
   "end_time": "2024-04-20T22:40:16.443037",
   "environment_variables": {},
   "exception": null,
   "input_path": "__notebook__.ipynb",
   "output_path": "__notebook__.ipynb",
   "parameters": {},
   "start_time": "2024-04-20T22:40:09.269640",
   "version": "2.5.0"
  }
 },
 "nbformat": 4,
 "nbformat_minor": 5
}
